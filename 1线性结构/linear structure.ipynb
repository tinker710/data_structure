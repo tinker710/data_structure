{
 "cells": [
  {
   "cell_type": "markdown",
   "id": "cooked-spencer",
   "metadata": {},
   "source": [
    "# 1 什么是线性结构 Linear Structure\n",
    "线性结构是一种有序数据项的集合，其中每个数据项都有唯一的前驱和后继\n",
    "- 除了第一个没有前驱，最后一个没有后继\n",
    "- 新的数据项加入到数据集中时，只会加入到原有某个数据项之前或之后\n",
    "线性结构存在两端，两端的称呼不是关键，不同线性结构的关键区别在于数据项增减的方式\n",
    "\n",
    "## 1.1 四种数据结构\n",
    "- 栈Stack\n",
    "- 队列Queue\n",
    "- 双端队列Deque\n",
    "- 列表List\n",
    "\n",
    "# 2 栈Stack\n",
    "1. 一种有次序的数据项集合，在栈中，数据项的加入和删除都仅发生在同一端\n",
    "日常中栈的应用：盘、书堆等等\n",
    "2. 距离栈底越近的数据项，留在栈中的时间就越长。而最新加入的栈的数据项会被最先移除\n",
    "3. 这种次序通常称为“后进先出LIFO”：Last in First out。这是一种基于数据项保存时间的次序，时间越短的离栈顶越近，而时间越长的离栈底越近。\n",
    "\n",
    "## 2.1 栈的特性\n",
    "反转次序\n",
    "如计算机浏览器的“后退back”按钮\n",
    "\n",
    "## 2.2 抽象数据类型“栈”定义为如下的操作\n",
    "- Stack（）：创建一个空栈，不包含任何数据项\n",
    "- push（item）：将item加入栈顶，无返回值\n",
    "- pop（）：将栈顶数据项移除，并返回，栈被修改\n",
    "- peek（）：“窥视”栈顶数据项，返回栈顶的数据项但不移除，栈不被修改\n",
    "- isEmpty（）：返回栈是否为空栈\n",
    "- size（）：返回栈中有多少个数据项\n",
    "|stack operation|stack contents|return value|\n",
    "|------|------|------|\n",
    "|s = Stack()|[]|stack object|\n",
    "|s.isEmpty()|[]|True|\n",
    "|s.push(4)|[4]||\n",
    "|s.push(\"dog\")|[4,\"dog\"]||\n",
    "|s.peek()|[4,\"dog\"]|\"dog\"|\n",
    "|s.push(True)|[4,\"dog\",True]||\n",
    "|s.size()|[4,\"dog\",True]|3|\n",
    "|s.isEmpty()|[4,\"dog\",True]|True|\n",
    "|s.pop()|[4,\"dog\"]|True|\n",
    "\n",
    "## 2.3 实现\n",
    "1. 将ADT Stack实现为python 的一个class\n",
    "2. 将ADT Stack的操作实现为class的方法\n",
    "3. 由于stack是一个数据集，所以可以采用python的原生数据集来实现，我们选用最常用的数据集List来实现\n",
    "4. 选用list的末端（index=-1）作为栈顶"
   ]
  },
  {
   "cell_type": "code",
   "execution_count": 4,
   "id": "respiratory-antenna",
   "metadata": {},
   "outputs": [],
   "source": [
    "# 用python实现ADT stack\n",
    "class Stack:\n",
    "    def __init__(self):\n",
    "        self.items = []\n",
    "    def isEmpty(self):\n",
    "        return self.items == []\n",
    "    def push(self,item):\n",
    "        self.items.append(item)\n",
    "    def pop(self):\n",
    "        return self.items.pop()\n",
    "    def peek(self):\n",
    "        return self.items[len(self.items)-1]\n",
    "    def size(self):\n",
    "        return len(self.items)"
   ]
  },
  {
   "cell_type": "markdown",
   "id": "economic-litigation",
   "metadata": {},
   "source": [
    "- 把Stack文件命名为Stack.py,放到与练习程序平级的目录或子文件夹(python_linear)中\n",
    "- 调用方法\n",
    "```\n",
    "from python_linear.Stack import Stack\n",
    "```\n",
    "![fig1](./fig/fig1.PNG)"
   ]
  },
  {
   "cell_type": "code",
   "execution_count": 10,
   "id": "burning-organization",
   "metadata": {},
   "outputs": [
    {
     "name": "stdout",
     "output_type": "stream",
     "text": [
      "True\n",
      "dog\n",
      "3\n",
      "False\n",
      "8.4\n"
     ]
    }
   ],
   "source": [
    "from python_linear.Stack import Stack\n",
    "s=Stack()\n",
    "\n",
    "print(s.isEmpty())\n",
    "s.push(4)\n",
    "s.push(\"dog\")\n",
    "print(s.peek())\n",
    "s.push(True)\n",
    "print(s.size())\n",
    "print(s.isEmpty())\n",
    "s.push(8.4)\n",
    "print(s.pop())"
   ]
  },
  {
   "cell_type": "markdown",
   "id": "behind-assignment",
   "metadata": {},
   "source": [
    "# 3 队列Queue\n",
    "1. 一种有次序的数据集合，特征是\n",
    "    - 新数据项的添加总发生在一端（通常称为“尾rear”端）\n",
    "    - 而现存数据项的移除总发生在另一端（通常称为“首front”端）\n",
    "2. 当数据项加入队列，首先出现在队尾，随着队首数据项的移除，它逐渐接近队首\n",
    "3. 新加入的数据项必须在数据集末尾等待，而等待时间最长的数据项则是队首。\n",
    "4. 这种次序安排的原则称为（FIFO：First-in first out）先进先出\n",
    "5. 队列仅有一个入口和一个出口\n",
    "6. 例子： 排队、进程调度\n",
    "\n",
    "## 3.1 抽象数据类型Queue操作定义：\n",
    "- Queue（）：创建一个空队列对象，返回值为Queue对象；\n",
    "- enqueue（item）：将数据项item添加到队尾，无返回值；\n",
    "- dequeue（）：从队首移除数据项，返回值为队首数据项，队列被修改；\n",
    "- isEmpty（）：测试是否空队列，返回值为布尔值\n",
    "- size（）：返回队列中数据项的个数"
   ]
  },
  {
   "cell_type": "code",
   "execution_count": null,
   "id": "looking-turtle",
   "metadata": {},
   "outputs": [],
   "source": [
    "# python实现ADT Queue, list首端作为队列尾端\n",
    "class Queue:\n",
    "    def __init__(self):\n",
    "        self.items = []\n",
    "    def isEmpty(self):\n",
    "        return self.items == []\n",
    "    def enqueue(self, item):\n",
    "        self.items.insert(0,item)\n",
    "    def dequeue(self):\n",
    "        return self.items.pop()\n",
    "    def size(self):\n",
    "        return len(self.items)"
   ]
  }
 ],
 "metadata": {
  "kernelspec": {
   "display_name": "Python 3",
   "language": "python",
   "name": "python3"
  },
  "language_info": {
   "codemirror_mode": {
    "name": "ipython",
    "version": 3
   },
   "file_extension": ".py",
   "mimetype": "text/x-python",
   "name": "python",
   "nbconvert_exporter": "python",
   "pygments_lexer": "ipython3",
   "version": "3.8.5"
  }
 },
 "nbformat": 4,
 "nbformat_minor": 5
}

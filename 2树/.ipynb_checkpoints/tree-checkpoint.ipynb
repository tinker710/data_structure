{
 "cells": [
  {
   "cell_type": "markdown",
   "id": "early-madagascar",
   "metadata": {},
   "source": [
    "# 1 树\n",
    "数据结构树也分为：根、枝和叶三个部分\n",
    "## 1.1 特性\n",
    "1. 分类体系是层次化的\n",
    "树是一种分层结构，越接近顶部的层越普遍；越接近底部的层越独特\n",
    "2. 一个节点的子节点与另一个节点的子节点相互之间是隔离、独立的\n",
    "3. 每一个叶节点都具有唯一性\n",
    "\n",
    "# 2 相关术语\n",
    "- 节点 Node：组成树的基本部分\n",
    "每个节点具有名称，或“键值”，节点还可以保存额外数据项，数据项根据不同的应用而变\n",
    "- 边 Edge：边是组成树的另一个基本部分\n",
    "    - 每条边恰好连接两个节点，表示节点之间具有关联，边具有出入方向；\n",
    "    - 每个节点（除根节点）恰有一条来自另一节点的入边\n",
    "    - 每个节点可有多条连到其它节点的出边\n",
    "- 根 Root：树中唯一一个没有入边的节点\n",
    "- 路径 Path：由边依次连接在一起的节点的有序列表\n",
    "- 子节点 Children：入边均来自于同一个节点的若干节点，称为这个节点的子节点\n",
    "- 父节点 Parent：一个节点是其所有出边所连接节点的父节点\n",
    "- 兄弟节点 Sibling：具有同一个父节点的节点之间称为兄弟节点\n",
    "- 子树Subtree： 一个节点和其所有子孙节点，以及相关边的集合\n",
    "- 叶节点 Leaf：没有子节点的节点称为叶节点\n",
    "- 层级 Level：从根节点开始到达一个节点的路径，所包含的边的数量，称为这个节点的层级\n",
    "- 高度：树中左右节点的最大层级称为树的高度\n",
    "\n",
    "# 3 树的定义\n",
    "树由若干节点，以及两两连接节点的边组成，并有如下性质\n",
    "- 其中一个节点被设定为根；\n",
    "- 每个节点n（除根节点），都恰连接一个来自节点p的边，p是n的父节点\n",
    "- 每个节点从根开始的路径是唯一的\n",
    "- 如果每个节点最多有两个子节点，这样的树称为“**二叉树**”"
   ]
  },
  {
   "cell_type": "markdown",
   "id": "flexible-entry",
   "metadata": {},
   "source": [
    "# 4 实现树：嵌套列表法\n",
    "首先我们尝试用Python List来实现二叉树树数据结构。\n",
    "\n",
    "递归的嵌套列表实现二叉树，由具有3个元素的列表实现：\n",
    "- 第一个元素为根节点的值\n",
    "- 第二个元素是左子树（所以也是一个列表）\n",
    "- 第三个元素是右子树（所以也是一个列表）\n",
    "\n",
    "`[root, left, right]`\n",
    "\n",
    "![](./fig/fig1.PNG)\n"
   ]
  },
  {
   "cell_type": "code",
   "execution_count": null,
   "id": "unlimited-cooperation",
   "metadata": {},
   "outputs": [],
   "source": []
  }
 ],
 "metadata": {
  "kernelspec": {
   "display_name": "Python 3",
   "language": "python",
   "name": "python3"
  },
  "language_info": {
   "codemirror_mode": {
    "name": "ipython",
    "version": 3
   },
   "file_extension": ".py",
   "mimetype": "text/x-python",
   "name": "python",
   "nbconvert_exporter": "python",
   "pygments_lexer": "ipython3",
   "version": "3.8.5"
  }
 },
 "nbformat": 4,
 "nbformat_minor": 5
}
